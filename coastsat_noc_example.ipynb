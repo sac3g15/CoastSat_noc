{
 "cells": [
  {
   "cell_type": "markdown",
   "metadata": {},
   "source": [
    "# EO4SD SHORELINE CHANGE MAPPING AND FORECASTING\n",
    "\n",
    "This code has been modifed by Carpenter (2020) for the project Earth Observation for Sustainable Development. Below demonstrates an example processing workflow for Benin and Togo's Coastline between 2000-2020.\n",
    "\n",
    "This software is based on scripts and code developed by:\n",
    "* Vos K., Splinter K.D., Harley M.D., Simmons J.A., Turner I.L. (2019). CoastSat: a Google Earth Engine-enabled Python toolkit to extract shorelines from publicly available satellite imagery. Environmental Modelling and Software. 122, 104528. https://doi.org/10.1016/j.envsoft.2019.104528\n",
    "\n",
    "It enables the users to extract time-series of shoreline change over the last 20+ years at their site of interest.\n",
    "There are three main steps:\n",
    "1. Retrieval of median composite satellite images of the region of interest from Google Earth Engine\n",
    "2. Shoreline extraction at sub-pixel resolution\n",
    "\n",
    "## Initial settings\n",
    "\n",
    "Refer to the Set-up and Installation section of the User Handbook for instructions on how to install the Python packages necessary to run the software, including Google Earth Engine Python API. See original methodology via https://github.com/kvos/CoastSat"
   ]
  },
  {
   "cell_type": "code",
   "execution_count": 1,
   "metadata": {},
   "outputs": [],
   "source": [
    "import os\n",
    "import numpy as np\n",
    "import pickle\n",
    "import warnings\n",
    "warnings.filterwarnings(\"ignore\")\n",
    "import matplotlib\n",
    "matplotlib.use('Qt5Agg')\n",
    "import matplotlib.pyplot as plt\n",
    "from matplotlib import gridspec\n",
    "plt.ion()\n",
    "import pandas as pd\n",
    "from datetime import datetime\n",
    "from coastsat import SDS_download, SDS_preprocess, SDS_shoreline, \\\n",
    "                     SDS_tools, SDS_transects, NOC_download, NOC_shoreline"
   ]
  },
  {
   "cell_type": "markdown",
   "metadata": {},
   "source": [
    "## 1. Retrieval of the images from GEE\n",
    "\n",
    "To retrieve from the GEE server the available satellite images cropped around the user-defined region of coastline for the particular time period of interest, the following variables are required:\n",
    "\n",
    "* Coordinate list: a list of the coordinates of the region of interest (longitude/latitude pairs in WGS84) – see section 'create coordinate list in User handbook to extract ROI from study site\n",
    "* all_dates: dates over which the images will be retrieved (e.g., dates = ['2017-12-01', '2018-01-01'])\n",
    "* all_sats: satellite missions to consider (e.g., sat_list = ['L7', 'L8', 'S2'] for Landsat 7, 8 and Sentinel-2 collections)\n",
    "* sitename: name of the site (this is the name of the subfolder where the images and other accompanying files will be stored)\n",
    "\n",
    "Similar to coastsat, there are some extra parameters such as those to go through manual checking, whether to combine Landsat collections and cloud thresholds. Some parameters have remained, such as 'cloud_mask_issue', but will not need changing to true as median images are often cloud free.\n",
    "\n",
    "Make sure the area of your ROI is smaller than 100 km2 (if larger split it into smaller ROIs) - GEE limits download size"
   ]
  },
  {
   "cell_type": "code",
   "execution_count": 2,
   "metadata": {
    "scrolled": true
   },
   "outputs": [],
   "source": [
    "coordinate_list =([[151.35020966,-33.62163388],[151.35020966,-33.70486004],[151.30212338,-33.62163388],[151.30212338,-33.70486004]]),\\\n",
    "([[151.3223859,-33.69740968],[151.3223859,-33.80488455],[151.28327117,-33.69740968],[151.28327117,-33.80488455]])\n",
    "\n",
    "\n",
    "#IMPORTANT - The code will retrieve the satellite data from the the defined time period and satellite\n",
    "#            dependant on the number in the list. I.e. ['2000-01-01', '2000-12-31'] or all_dates[0]\n",
    "#            corresponds to ['L7'] or all_sats[0]. \n",
    "\n",
    "all_dates = ([['2014-01-01', '2014-12-31'],['2016-01-01', '2016-12-31'],['2018-01-01', '2018-12-31'],['2020-01-01', '2020-12-31']])\n",
    "\n",
    "all_sats = ([['L7'],['L8'],['S2'],['S2']])\n",
    "\n",
    "study_area = 'NARRA'\n",
    "\n",
    "# directory where the data will be stored\n",
    "filepath = os.path.join(os.getcwd(), 'data')\n",
    "\n",
    "# Settings List\n",
    "settings = {'output_epsg': 32754,        # EPSG code (can be found here https://epsg.io/)\n",
    "           'cloud_mask_issue':False,    # if there is an issue with the cloud mask and sand pixels\n",
    "                                        # are erroneously being masked on the images\n",
    "           'check_detection': False,     # lets user manually accept/reject the mapped shorelines\n",
    "           'save_figure': False,         # saves a -jpg file for each mapped shoreline\n",
    "           'adjust_detection': False,    # allows user to manually adjust the detected shoreline\n",
    "           \n",
    "            # [FOR ADVANCED USERS] shoreline detection parameters:\n",
    "           'min_beach_area': 1000,     # minimum area (in metres^2) for an object to be labelled as a beach\n",
    "           'buffer_size': 150,         # radius (in metres) of the buffer around sandy pixels considered in the shoreline detection\n",
    "           'min_length_sl': 0,       # minimum length (in metres) of shoreline perimeter to be valid\n",
    "           'cloud_mask_issue': False,  # switch this parameter to True if sand pixels are masked (in black) on many images  \n",
    "           'sand_color': 'default',    # 'default', 'dark' (for grey/black sand beaches) or 'bright' (for white sand beaches)\n",
    "            \n",
    "           #Co-registration\n",
    "           'coregistration': False,    # Leave paramter 'false'. Current method not suffcient\n",
    "            \n",
    "           ## Image download Parameters\n",
    "           # Landsat\n",
    "           'LCloudScore': 15,         # Mean cloud score threshold (include images with less then threshold)\n",
    "           'add_L7_to_L5': True,      # Add Landsat 7 to Landsat 5 median composite if they are in same time period\n",
    "           'add_L5_to_L7': True,      # Add Landsat 5 to Landsat 7 median composite if they are in same time period\n",
    "           'add_L7_to_L8': True,      # Add Landsat 7 to Landsat 8 median composite if they are in same time period\n",
    "           'LCloudThreshold': 35,     # Pixels from a single image in a collection larger than this cloud score threshold\n",
    "                                      # will be masked.\n",
    "           # Sentinel\n",
    "           'CLOUD_FILTER': 50,          # [Integer] Maximum image cloud cover percent allowed in image collection'\n",
    "           'CLD_PRB_THRESH': 25,        # {Integer] Cloud probability (%); values greater than are considered cloud\n",
    "           'NIR_DRK_THRESH': 0.08,      # [Float] Near-infrared reflectance; values less than are considered potential cloud shadow\n",
    "           'CLD_PRJ_DIST': 2,           # [Float] Maximum distance (km) to search for cloud shadows from cloud edges |\n",
    "           'BUFFER': 50,               # [Integer] Distance (m) to dilate the edge of cloud-identified objects |\n",
    "            \n",
    "        }\n",
    "\n",
    "download = False"
   ]
  },
  {
   "cell_type": "code",
   "execution_count": 3,
   "metadata": {
    "scrolled": true
   },
   "outputs": [],
   "source": [
    "if download:\n",
    "    \n",
    "    for site in coordinate_list:       \n",
    "             \n",
    "        counter = 0    \n",
    "        for date in all_dates:\n",
    "            \n",
    "            sat = all_sats[counter]\n",
    "            settings['dates'] = date\n",
    "\n",
    "            sitename = study_area + str(coordinate_list.index(site))\n",
    "\n",
    "            # put all the inputs into a dictionnary\n",
    "            inputs = {'polygon': site, 'dates': date, 'sat_list': sat,\n",
    "              'sitename': sitename, 'filepath': filepath,\n",
    "              'include_T2': False}\n",
    "\n",
    "            #printProgress(f'processing {sitefolder}: {date}')\n",
    "            NOC_download.noc_retrieve_images(settings, inputs)\n",
    "            \n",
    "            counter = counter + 1\n",
    "    print('FINISHED ...')"
   ]
  },
  {
   "cell_type": "code",
   "execution_count": 4,
   "metadata": {
    "scrolled": true
   },
   "outputs": [
    {
     "name": "stdout",
     "output_type": "stream",
     "text": [
      "Mapping shorelines:\n",
      "L7:   100%\n",
      "L8:   100%\n",
      "S2:   100%\n",
      "Mapping shorelines:\n",
      "L7:   100%\n",
      "L8:   100%\n",
      "S2:   100%\n",
      "Finished...\n"
     ]
    }
   ],
   "source": [
    "##Batch shoreline detection\n",
    "for site in coordinate_list:       \n",
    "\n",
    "    for sat in all_sats:\n",
    "\n",
    "        for date in all_dates:\n",
    "\n",
    "            settings['dates'] = date\n",
    "\n",
    "            sitename = study_area + str(coordinate_list.index(site))\n",
    "\n",
    "            # put all the inputs into a dictionnary\n",
    "            inputs = {'polygon': site, 'dates': date, 'sat_list': sat,\n",
    "              'sitename': sitename, 'filepath': filepath,\n",
    "              'include_T2': False}\n",
    "         \n",
    "            settings.update({'inputs': inputs})\n",
    "            \n",
    "    %matplotlib qt            \n",
    "    metadata = NOC_download.noc_get_metadata(inputs)\n",
    "    output = NOC_shoreline.noc_extract_shorelines(metadata, settings, inputs)\n",
    "            \n",
    "print('Finished...')"
   ]
  },
  {
   "cell_type": "code",
   "execution_count": null,
   "metadata": {},
   "outputs": [],
   "source": []
  },
  {
   "cell_type": "code",
   "execution_count": null,
   "metadata": {},
   "outputs": [],
   "source": []
  }
 ],
 "metadata": {
  "kernelspec": {
   "display_name": "Python 3",
   "language": "python",
   "name": "python3"
  },
  "language_info": {
   "codemirror_mode": {
    "name": "ipython",
    "version": 3
   },
   "file_extension": ".py",
   "mimetype": "text/x-python",
   "name": "python",
   "nbconvert_exporter": "python",
   "pygments_lexer": "ipython3",
   "version": "3.7.9"
  },
  "toc": {
   "base_numbering": 1,
   "nav_menu": {},
   "number_sections": true,
   "sideBar": true,
   "skip_h1_title": false,
   "title_cell": "Table of Contents",
   "title_sidebar": "Contents",
   "toc_cell": false,
   "toc_position": {},
   "toc_section_display": true,
   "toc_window_display": false
  },
  "varInspector": {
   "cols": {
    "lenName": 16,
    "lenType": 16,
    "lenVar": 40
   },
   "kernels_config": {
    "python": {
     "delete_cmd_postfix": "",
     "delete_cmd_prefix": "del ",
     "library": "var_list.py",
     "varRefreshCmd": "print(var_dic_list())"
    },
    "r": {
     "delete_cmd_postfix": ") ",
     "delete_cmd_prefix": "rm(",
     "library": "var_list.r",
     "varRefreshCmd": "cat(var_dic_list()) "
    }
   },
   "types_to_exclude": [
    "module",
    "function",
    "builtin_function_or_method",
    "instance",
    "_Feature"
   ],
   "window_display": false
  }
 },
 "nbformat": 4,
 "nbformat_minor": 2
}
